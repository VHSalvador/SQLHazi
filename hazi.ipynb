{
    "metadata": {
        "kernelspec": {
            "name": "SQL",
            "display_name": "SQL",
            "language": "sql"
        },
        "language_info": {
            "name": "sql",
            "version": ""
        }
    },
    "nbformat_minor": 2,
    "nbformat": 4,
    "cells": [
        {
            "cell_type": "markdown",
            "source": [
                "# **SQL Adatelemzés házi** **(a diagrammok csak a fájl letöltése után jelennek meg)**"
            ],
            "metadata": {
                "azdata_cell_guid": "8c053656-9bb3-42b7-bcd6-e8ce2ece5032"
            },
            "attachments": {}
        },
        {
            "cell_type": "markdown",
            "source": [
                "## **Termék tábla leirás oszlopának adaprofilozása**"
            ],
            "metadata": {
                "azdata_cell_guid": "9838dabf-7ca3-4a51-9730-87568750b8fc"
            },
            "attachments": {}
        },
        {
            "cell_type": "code",
            "source": [
                "SELECT   \r\n",
                "SUM(CASE WHEN LEIRAS IS NULL THEN 1 ELSE 0 END) AS 'null_ertek', \r\n",
                "SUM(CASE WHEN LEIRAS IS NOT NULL THEN 1 ELSE 0 END) AS 'nem_null'\r\n",
                "FROM Termek"
            ],
            "metadata": {
                "azdata_cell_guid": "dcd3afdb-1676-4649-9321-abd47833ef49",
                "language": "sql",
                "tags": []
            },
            "outputs": [
                {
                    "output_type": "display_data",
                    "data": {
                        "text/html": "(1 row affected)"
                    },
                    "metadata": {}
                },
                {
                    "output_type": "display_data",
                    "data": {
                        "text/html": "Total execution time: 00:00:00.012"
                    },
                    "metadata": {}
                },
                {
                    "output_type": "execute_result",
                    "execution_count": 3,
                    "data": {
                        "application/vnd.dataresource+json": {
                            "schema": {
                                "fields": [
                                    {
                                        "name": "null_ertek"
                                    },
                                    {
                                        "name": "nem_null"
                                    }
                                ]
                            },
                            "data": [
                                {
                                    "null_ertek": "527",
                                    "nem_null": "24"
                                }
                            ]
                        },
                        "text/html": "<table><tr><th>null_ertek</th><th>nem_null</th></tr><tr><td>527</td><td>24</td></tr></table>"
                    },
                    "metadata": {}
                }
            ],
            "execution_count": 3
        },
        {
            "cell_type": "code",
            "source": [
                "SELECT \r\n",
                "SUM(CASE WHEN LEIRAS IS NULL THEN 1 ELSE 0 END) AS 'null_ertek', \r\n",
                "SUM(CASE WHEN LEIRAS IS NOT NULL THEN 1 ELSE 0 END) AS 'nem_null'\r\n",
                "FROM Termek"
            ],
            "metadata": {
                "language": "sql",
                "azdata_cell_guid": "647d47c8-9cca-483c-aa50-36e25a3cc2db"
            },
            "outputs": [
                {
                    "output_type": "display_data",
                    "data": {
                        "text/html": "(1 row affected)"
                    },
                    "metadata": {}
                },
                {
                    "output_type": "display_data",
                    "data": {
                        "text/html": "Total execution time: 00:00:00.020"
                    },
                    "metadata": {}
                },
                {
                    "output_type": "execute_result",
                    "execution_count": 2,
                    "data": {
                        "application/vnd.dataresource+json": {
                            "schema": {
                                "fields": [
                                    {
                                        "name": "null_ertek"
                                    },
                                    {
                                        "name": "nem_null"
                                    }
                                ]
                            },
                            "data": [
                                {
                                    "null_ertek": "527",
                                    "nem_null": "24"
                                }
                            ]
                        },
                        "text/html": "<table><tr><th>null_ertek</th><th>nem_null</th></tr><tr><td>527</td><td>24</td></tr></table>"
                    },
                    "metadata": {
                        "azdata_chartOptions": {
                            "type": "pie",
                            "dataDirection": "horizontal",
                            "columnsAsLabels": true,
                            "labelFirstColumn": false,
                            "legendPosition": "top"
                        }
                    }
                }
            ],
            "execution_count": 2
        },
        {
            "cell_type": "markdown",
            "source": [
                "## **Listaár táblának elemzése**"
            ],
            "metadata": {
                "language": "sql",
                "azdata_cell_guid": "f25fcf6b-0f96-43f8-b632-cf58af34fdd4"
            },
            "attachments": {}
        },
        {
            "cell_type": "markdown",
            "source": [
                "### **Minimum, átlag, maximum összehasonlitása**"
            ],
            "metadata": {
                "language": "sql",
                "azdata_cell_guid": "ce766fa7-7365-4d57-85e2-6e11b4b9b89f"
            },
            "attachments": {}
        },
        {
            "cell_type": "code",
            "source": [
                " SELECT \r\n",
                "MIN(LISTAAR) AS 'min_listaar', \r\n",
                "AVG(LISTAAR) AS 'avg_listaar', \r\n",
                "MAX(LISTAAR) AS 'max_listaar'  \r\n",
                "FROM Termek"
            ],
            "metadata": {
                "azdata_cell_guid": "60cb35e5-403d-4d43-b4e1-3326c8cdc221",
                "language": "sql",
                "tags": []
            },
            "outputs": [
                {
                    "output_type": "display_data",
                    "data": {
                        "text/html": "(1 row affected)"
                    },
                    "metadata": {}
                },
                {
                    "output_type": "display_data",
                    "data": {
                        "text/html": "Total execution time: 00:00:00.023"
                    },
                    "metadata": {}
                },
                {
                    "output_type": "execute_result",
                    "metadata": {},
                    "execution_count": 5,
                    "data": {
                        "application/vnd.dataresource+json": {
                            "schema": {
                                "fields": [
                                    {
                                        "name": "min_listaar"
                                    },
                                    {
                                        "name": "avg_listaar"
                                    },
                                    {
                                        "name": "max_listaar"
                                    }
                                ]
                            },
                            "data": [
                                {
                                    "min_listaar": "0",
                                    "avg_listaar": "786,2813067150635",
                                    "max_listaar": "46000"
                                }
                            ]
                        },
                        "text/html": [
                            "<table>",
                            "<tr><th>min_listaar</th><th>avg_listaar</th><th>max_listaar</th></tr>",
                            "<tr><td>0</td><td>786,2813067150635</td><td>46000</td></tr>",
                            "</table>"
                        ]
                    }
                }
            ],
            "execution_count": 5
        },
        {
            "cell_type": "code",
            "source": [
                " SELECT \r\n",
                "MIN(LISTAAR) AS 'min_listaar', \r\n",
                "AVG(LISTAAR) AS 'avg_listaar', \r\n",
                "MAX(LISTAAR) AS 'max_listaar'  \r\n",
                "FROM Termek"
            ],
            "metadata": {
                "language": "sql",
                "azdata_cell_guid": "4bf2b796-5038-4d46-9b0c-c9a8a50f0357"
            },
            "outputs": [
                {
                    "output_type": "display_data",
                    "data": {
                        "text/html": "(1 row affected)"
                    },
                    "metadata": {}
                },
                {
                    "output_type": "display_data",
                    "data": {
                        "text/html": "Total execution time: 00:00:00.013"
                    },
                    "metadata": {}
                },
                {
                    "output_type": "execute_result",
                    "metadata": {
                        "azdata_chartOptions": {
                            "type": "bar",
                            "dataDirection": "horizontal",
                            "columnsAsLabels": true,
                            "labelFirstColumn": false,
                            "legendPosition": "top",
                            "encoding": "hex",
                            "imageFormat": "jpeg",
                            "dataType": "number"
                        }
                    },
                    "execution_count": 6,
                    "data": {
                        "application/vnd.dataresource+json": {
                            "schema": {
                                "fields": [
                                    {
                                        "name": "min_listaar"
                                    },
                                    {
                                        "name": "avg_listaar"
                                    },
                                    {
                                        "name": "max_listaar"
                                    }
                                ]
                            },
                            "data": [
                                {
                                    "min_listaar": "0",
                                    "avg_listaar": "786,2813067150635",
                                    "max_listaar": "46000"
                                }
                            ]
                        },
                        "text/html": [
                            "<table>",
                            "<tr><th>min_listaar</th><th>avg_listaar</th><th>max_listaar</th></tr>",
                            "<tr><td>0</td><td>786,2813067150635</td><td>46000</td></tr>",
                            "</table>"
                        ]
                    }
                }
            ],
            "execution_count": 6
        },
        {
            "cell_type": "markdown",
            "source": [
                "### **Ártartomány elemzése**"
            ],
            "metadata": {
                "language": "sql",
                "azdata_cell_guid": "3a841152-1629-4c60-b128-9c3f9c17b900"
            },
            "attachments": {}
        },
        {
            "cell_type": "code",
            "source": [
                "SELECT \r\n",
                "SUM(CASE WHEN LISTAAR BETWEEN 1 AND 1000 THEN 1 ELSE 0 END) AS '1 és 1000 közötti tartomány',  \r\n",
                "SUM(CASE WHEN LISTAAR > 1000 THEN 1 ELSE 0 END) AS '1000 feletti tartomány' \r\n",
                "FROM Termek"
            ],
            "metadata": {
                "language": "sql",
                "azdata_cell_guid": "63e522ad-a603-4097-85ea-b86a229f6321"
            },
            "outputs": [
                {
                    "output_type": "display_data",
                    "data": {
                        "text/html": "(1 row affected)"
                    },
                    "metadata": {}
                },
                {
                    "output_type": "display_data",
                    "data": {
                        "text/html": "Total execution time: 00:00:00.011"
                    },
                    "metadata": {}
                },
                {
                    "output_type": "execute_result",
                    "metadata": {},
                    "execution_count": 11,
                    "data": {
                        "application/vnd.dataresource+json": {
                            "schema": {
                                "fields": [
                                    {
                                        "name": "0 és 1000 közötti tartomány"
                                    },
                                    {
                                        "name": "1000 feletti tartomány"
                                    }
                                ]
                            },
                            "data": [
                                {
                                    "0 és 1000 közötti tartomány": "510",
                                    "1000 feletti tartomány": "40"
                                }
                            ]
                        },
                        "text/html": [
                            "<table>",
                            "<tr><th>0 és 1000 közötti tartomány</th><th>1000 feletti tartomány</th></tr>",
                            "<tr><td>510</td><td>40</td></tr>",
                            "</table>"
                        ]
                    }
                }
            ],
            "execution_count": 11
        },
        {
            "cell_type": "code",
            "source": [
                "SELECT \r\n",
                "SUM(CASE WHEN LISTAAR BETWEEN 1 AND 1000 THEN 1 ELSE 0 END) AS '1 és 1000 közötti tartomány',  \r\n",
                "SUM(CASE WHEN LISTAAR > 1000 THEN 1 ELSE 0 END) AS '1000 feletti tartomány' \r\n",
                "FROM Termek"
            ],
            "metadata": {
                "language": "sql",
                "azdata_cell_guid": "c5cb0030-b4de-4d5d-9609-0e739c242dea"
            },
            "outputs": [
                {
                    "output_type": "display_data",
                    "data": {
                        "text/html": "(1 row affected)"
                    },
                    "metadata": {}
                },
                {
                    "output_type": "display_data",
                    "data": {
                        "text/html": "Total execution time: 00:00:00.015"
                    },
                    "metadata": {}
                },
                {
                    "output_type": "execute_result",
                    "metadata": {
                        "azdata_chartOptions": {
                            "type": "horizontalBar",
                            "dataDirection": "horizontal",
                            "columnsAsLabels": true,
                            "labelFirstColumn": false,
                            "legendPosition": "top"
                        }
                    },
                    "execution_count": 12,
                    "data": {
                        "application/vnd.dataresource+json": {
                            "schema": {
                                "fields": [
                                    {
                                        "name": "1 és 1000 közötti tartomány"
                                    },
                                    {
                                        "name": "1000 feletti tartomány"
                                    }
                                ]
                            },
                            "data": [
                                {
                                    "1 és 1000 közötti tartomány": "510",
                                    "1000 feletti tartomány": "40"
                                }
                            ]
                        },
                        "text/html": [
                            "<table>",
                            "<tr><th>1 és 1000 közötti tartomány</th><th>1000 feletti tartomány</th></tr>",
                            "<tr><td>510</td><td>40</td></tr>",
                            "</table>"
                        ]
                    }
                }
            ],
            "execution_count": 12
        },
        {
            "cell_type": "markdown",
            "source": [
                "### **Leggyakoribb értékek elemzése**"
            ],
            "metadata": {
                "language": "sql",
                "azdata_cell_guid": "6ca81697-44df-43fa-a56e-7ef3f75134b0"
            },
            "attachments": {}
        },
        {
            "cell_type": "code",
            "source": [
                "SELECT TOP 5 \r\n",
                "LISTAAR AS 'listaár',\r\n",
                "COUNT(*) AS 'gyakoriság'\r\n",
                "FROM Termek\r\n",
                "WHERE LISTAAR IS NOT NULL\r\n",
                "GROUP BY LISTAAR\r\n",
                "ORDER BY COUNT(*) DESC"
            ],
            "metadata": {
                "language": "sql",
                "azdata_cell_guid": "2619bbae-8d66-456a-90ed-12451ebee641"
            },
            "outputs": [
                {
                    "output_type": "display_data",
                    "data": {
                        "text/html": "(5 rows affected)"
                    },
                    "metadata": {}
                },
                {
                    "output_type": "display_data",
                    "data": {
                        "text/html": "Total execution time: 00:00:00.012"
                    },
                    "metadata": {}
                },
                {
                    "output_type": "execute_result",
                    "metadata": {},
                    "execution_count": 18,
                    "data": {
                        "application/vnd.dataresource+json": {
                            "schema": {
                                "fields": [
                                    {
                                        "name": "listaár"
                                    },
                                    {
                                        "name": "gyakoriság"
                                    }
                                ]
                            },
                            "data": [
                                {
                                    "listaár": "30",
                                    "gyakoriság": "16"
                                },
                                {
                                    "listaár": "44",
                                    "gyakoriság": "16"
                                },
                                {
                                    "listaár": "89",
                                    "gyakoriság": "15"
                                },
                                {
                                    "listaár": "15",
                                    "gyakoriság": "14"
                                },
                                {
                                    "listaár": "103",
                                    "gyakoriság": "12"
                                }
                            ]
                        },
                        "text/html": [
                            "<table>",
                            "<tr><th>listaár</th><th>gyakoriság</th></tr>",
                            "<tr><td>30</td><td>16</td></tr>",
                            "<tr><td>44</td><td>16</td></tr>",
                            "<tr><td>89</td><td>15</td></tr>",
                            "<tr><td>15</td><td>14</td></tr>",
                            "<tr><td>103</td><td>12</td></tr>",
                            "</table>"
                        ]
                    }
                }
            ],
            "execution_count": 18
        },
        {
            "cell_type": "code",
            "source": [
                "SELECT TOP 5 \r\n",
                "LISTAAR AS 'listaár',\r\n",
                "COUNT(*) AS 'gyakoriság'\r\n",
                "FROM Termek\r\n",
                "WHERE LISTAAR IS NOT NULL\r\n",
                "GROUP BY LISTAAR\r\n",
                "ORDER BY COUNT(*) DESC"
            ],
            "metadata": {
                "language": "sql",
                "azdata_cell_guid": "f970ad63-5474-43e4-894e-b2208b6adbce"
            },
            "outputs": [
                {
                    "output_type": "display_data",
                    "data": {
                        "text/html": "(5 rows affected)"
                    },
                    "metadata": {}
                },
                {
                    "output_type": "display_data",
                    "data": {
                        "text/html": "Total execution time: 00:00:00.014"
                    },
                    "metadata": {}
                },
                {
                    "output_type": "execute_result",
                    "metadata": {
                        "azdata_chartOptions": {
                            "type": "bar",
                            "dataDirection": "horizontal",
                            "columnsAsLabels": true,
                            "labelFirstColumn": true,
                            "legendPosition": "left",
                            "dataType": "number",
                            "encoding": "hex",
                            "imageFormat": "jpeg"
                        }
                    },
                    "execution_count": 15,
                    "data": {
                        "application/vnd.dataresource+json": {
                            "schema": {
                                "fields": [
                                    {
                                        "name": "listaár"
                                    },
                                    {
                                        "name": "gyakoriság"
                                    }
                                ]
                            },
                            "data": [
                                {
                                    "listaár": "30",
                                    "gyakoriság": "16"
                                },
                                {
                                    "listaár": "44",
                                    "gyakoriság": "16"
                                },
                                {
                                    "listaár": "89",
                                    "gyakoriság": "15"
                                },
                                {
                                    "listaár": "15",
                                    "gyakoriság": "14"
                                },
                                {
                                    "listaár": "103",
                                    "gyakoriság": "12"
                                }
                            ]
                        },
                        "text/html": [
                            "<table>",
                            "<tr><th>listaár</th><th>gyakoriság</th></tr>",
                            "<tr><td>30</td><td>16</td></tr>",
                            "<tr><td>44</td><td>16</td></tr>",
                            "<tr><td>89</td><td>15</td></tr>",
                            "<tr><td>15</td><td>14</td></tr>",
                            "<tr><td>103</td><td>12</td></tr>",
                            "</table>"
                        ]
                    }
                }
            ],
            "execution_count": 15
        },
        {
            "cell_type": "markdown",
            "source": [
                "### **Szórás és variancia**"
            ],
            "metadata": {
                "azdata_cell_guid": "28e5405c-d029-4b9c-bf0d-b3399a14b76a"
            },
            "attachments": {}
        },
        {
            "cell_type": "code",
            "source": [
                "SELECT \r\n",
                "ROUND(STDEV(LISTAAR), -3) AS 'Szórás', \r\n",
                "ROUND(VAR(LISTAAR), -3) AS 'Variancia' \r\n",
                "FROM Termek\r\n",
                "WHERE LISTAAR IS NOT NULL"
            ],
            "metadata": {
                "azdata_cell_guid": "b6f25b23-199c-4362-a413-46b8f77cc457",
                "language": "sql",
                "tags": []
            },
            "outputs": [
                {
                    "output_type": "display_data",
                    "data": {
                        "text/html": "(1 row affected)"
                    },
                    "metadata": {}
                },
                {
                    "output_type": "display_data",
                    "data": {
                        "text/html": "Total execution time: 00:00:00.017"
                    },
                    "metadata": {}
                },
                {
                    "output_type": "execute_result",
                    "metadata": {},
                    "execution_count": 25,
                    "data": {
                        "application/vnd.dataresource+json": {
                            "schema": {
                                "fields": [
                                    {
                                        "name": "Szórás"
                                    },
                                    {
                                        "name": "Variancia"
                                    }
                                ]
                            },
                            "data": [
                                {
                                    "Szórás": "4000",
                                    "Variancia": "12978000"
                                }
                            ]
                        },
                        "text/html": [
                            "<table>",
                            "<tr><th>Szórás</th><th>Variancia</th></tr>",
                            "<tr><td>4000</td><td>12978000</td></tr>",
                            "</table>"
                        ]
                    }
                }
            ],
            "execution_count": 25
        },
        {
            "cell_type": "code",
            "source": [
                "SELECT \r\n",
                "ROUND(STDEV(LISTAAR), -3) AS 'Szórás', \r\n",
                "ROUND(VAR(LISTAAR), -3) AS 'Variancia' \r\n",
                "FROM Termek\r\n",
                "WHERE LISTAAR IS NOT NULL"
            ],
            "metadata": {
                "language": "sql",
                "azdata_cell_guid": "5ce595de-c3df-490b-8b30-b9a7f7c838b4"
            },
            "outputs": [
                {
                    "output_type": "display_data",
                    "data": {
                        "text/html": "(1 row affected)"
                    },
                    "metadata": {}
                },
                {
                    "output_type": "display_data",
                    "data": {
                        "text/html": "Total execution time: 00:00:00.015"
                    },
                    "metadata": {}
                },
                {
                    "output_type": "execute_result",
                    "metadata": {
                        "azdata_chartOptions": {
                            "type": "bar",
                            "dataDirection": "horizontal",
                            "columnsAsLabels": true,
                            "labelFirstColumn": false,
                            "legendPosition": "top"
                        }
                    },
                    "execution_count": 26,
                    "data": {
                        "application/vnd.dataresource+json": {
                            "schema": {
                                "fields": [
                                    {
                                        "name": "Szórás"
                                    },
                                    {
                                        "name": "Variancia"
                                    }
                                ]
                            },
                            "data": [
                                {
                                    "Szórás": "4000",
                                    "Variancia": "12978000"
                                }
                            ]
                        },
                        "text/html": [
                            "<table>",
                            "<tr><th>Szórás</th><th>Variancia</th></tr>",
                            "<tr><td>4000</td><td>12978000</td></tr>",
                            "</table>"
                        ]
                    }
                }
            ],
            "execution_count": 26
        },
        {
            "cell_type": "markdown",
            "source": [
                "## **Rendelés tábla lekérdezései**"
            ],
            "metadata": {
                "language": "sql",
                "azdata_cell_guid": "71271f10-0995-479a-98ae-cf6abd150c99"
            },
            "attachments": {}
        },
        {
            "cell_type": "markdown",
            "source": [
                "### **Évenkénti rendelések**"
            ],
            "metadata": {
                "language": "sql",
                "azdata_cell_guid": "9b97b686-a300-4c12-9d9b-493425540a84"
            },
            "attachments": {}
        },
        {
            "cell_type": "code",
            "source": [
                "SELECT \r\n",
                "YEAR(REND_DATUM) AS ev,\r\n",
                "COUNT(*) AS 'rendelesek_szama'\r\n",
                "FROM \r\n",
                "Rendeles\r\n",
                "GROUP BY \r\n",
                "YEAR(REND_DATUM)\r\n",
                "ORDER BY \r\n",
                "ev"
            ],
            "metadata": {
                "language": "sql",
                "azdata_cell_guid": "7d74968b-6860-4454-9d99-b73ec63fb5c4"
            },
            "outputs": [
                {
                    "output_type": "display_data",
                    "data": {
                        "text/html": "(3 rows affected)"
                    },
                    "metadata": {}
                },
                {
                    "output_type": "display_data",
                    "data": {
                        "text/html": "Total execution time: 00:00:00.031"
                    },
                    "metadata": {}
                },
                {
                    "output_type": "execute_result",
                    "metadata": {},
                    "execution_count": 28,
                    "data": {
                        "application/vnd.dataresource+json": {
                            "schema": {
                                "fields": [
                                    {
                                        "name": "ev"
                                    },
                                    {
                                        "name": "rendelesek_szama"
                                    }
                                ]
                            },
                            "data": [
                                {
                                    "ev": "2015",
                                    "rendelesek_szama": "9747"
                                },
                                {
                                    "ev": "2016",
                                    "rendelesek_szama": "14773"
                                },
                                {
                                    "ev": "2017",
                                    "rendelesek_szama": "3565"
                                }
                            ]
                        },
                        "text/html": [
                            "<table>",
                            "<tr><th>ev</th><th>rendelesek_szama</th></tr>",
                            "<tr><td>2015</td><td>9747</td></tr>",
                            "<tr><td>2016</td><td>14773</td></tr>",
                            "<tr><td>2017</td><td>3565</td></tr>",
                            "</table>"
                        ]
                    }
                }
            ],
            "execution_count": 28
        },
        {
            "cell_type": "code",
            "source": [
                "SELECT \r\n",
                "YEAR(REND_DATUM) AS ev,\r\n",
                "COUNT(*) AS 'rendelesek_szama'\r\n",
                "FROM \r\n",
                "Rendeles\r\n",
                "GROUP BY \r\n",
                "YEAR(REND_DATUM)\r\n",
                "ORDER BY \r\n",
                "ev"
            ],
            "metadata": {
                "language": "sql",
                "azdata_cell_guid": "c3895f97-2ec4-4636-90ee-f354b747516c"
            },
            "outputs": [
                {
                    "output_type": "display_data",
                    "data": {
                        "text/html": "(3 rows affected)"
                    },
                    "metadata": {}
                },
                {
                    "output_type": "display_data",
                    "data": {
                        "text/html": "Total execution time: 00:00:00.024"
                    },
                    "metadata": {}
                },
                {
                    "output_type": "execute_result",
                    "metadata": {
                        "azdata_chartOptions": {
                            "type": "bar",
                            "dataDirection": "horizontal",
                            "columnsAsLabels": true,
                            "labelFirstColumn": true,
                            "legendPosition": "top"
                        }
                    },
                    "execution_count": 29,
                    "data": {
                        "application/vnd.dataresource+json": {
                            "schema": {
                                "fields": [
                                    {
                                        "name": "ev"
                                    },
                                    {
                                        "name": "rendelesek_szama"
                                    }
                                ]
                            },
                            "data": [
                                {
                                    "ev": "2015",
                                    "rendelesek_szama": "9747"
                                },
                                {
                                    "ev": "2016",
                                    "rendelesek_szama": "14773"
                                },
                                {
                                    "ev": "2017",
                                    "rendelesek_szama": "3565"
                                }
                            ]
                        },
                        "text/html": [
                            "<table>",
                            "<tr><th>ev</th><th>rendelesek_szama</th></tr>",
                            "<tr><td>2015</td><td>9747</td></tr>",
                            "<tr><td>2016</td><td>14773</td></tr>",
                            "<tr><td>2017</td><td>3565</td></tr>",
                            "</table>"
                        ]
                    }
                }
            ],
            "execution_count": 29
        },
        {
            "cell_type": "markdown",
            "source": [
                "### **2015,2016 összehasonlitása**"
            ],
            "metadata": {
                "language": "sql",
                "azdata_cell_guid": "5d3241e6-87cd-4e30-93bc-517f114626a5"
            },
            "attachments": {}
        },
        {
            "cell_type": "code",
            "source": [
                "SELECT \r\n",
                "YEAR(REND_DATUM) AS ev,\r\n",
                "COUNT(*) AS 'rendelesek_szama'\r\n",
                "FROM \r\n",
                "Rendeles\r\n",
                "WHERE \r\n",
                "YEAR(REND_DATUM) IN (2016, 2015)\r\n",
                "GROUP BY \r\n",
                "YEAR(REND_DATUM)\r\n",
                "ORDER BY \r\n",
                "ev"
            ],
            "metadata": {
                "language": "sql",
                "azdata_cell_guid": "daa75aa8-4e0f-4227-9a92-ac273bb4958b",
                "tags": []
            },
            "outputs": [
                {
                    "output_type": "display_data",
                    "data": {
                        "text/html": "(2 rows affected)"
                    },
                    "metadata": {}
                },
                {
                    "output_type": "display_data",
                    "data": {
                        "text/html": "Total execution time: 00:00:00.040"
                    },
                    "metadata": {}
                },
                {
                    "output_type": "execute_result",
                    "metadata": {},
                    "execution_count": 38,
                    "data": {
                        "application/vnd.dataresource+json": {
                            "schema": {
                                "fields": [
                                    {
                                        "name": "ev"
                                    },
                                    {
                                        "name": "rendelesek_szama"
                                    }
                                ]
                            },
                            "data": [
                                {
                                    "ev": "2015",
                                    "rendelesek_szama": "9747"
                                },
                                {
                                    "ev": "2016",
                                    "rendelesek_szama": "14773"
                                }
                            ]
                        },
                        "text/html": [
                            "<table>",
                            "<tr><th>ev</th><th>rendelesek_szama</th></tr>",
                            "<tr><td>2015</td><td>9747</td></tr>",
                            "<tr><td>2016</td><td>14773</td></tr>",
                            "</table>"
                        ]
                    }
                }
            ],
            "execution_count": 38
        },
        {
            "cell_type": "code",
            "source": [
                "SELECT \r\n",
                "YEAR(REND_DATUM) AS ev,\r\n",
                "COUNT(*) AS 'rendelesek_szama'\r\n",
                "FROM \r\n",
                "Rendeles\r\n",
                "WHERE \r\n",
                "YEAR(REND_DATUM) IN (2016, 2015)\r\n",
                "GROUP BY \r\n",
                "YEAR(REND_DATUM)\r\n",
                "ORDER BY \r\n",
                "ev"
            ],
            "metadata": {
                "language": "sql",
                "azdata_cell_guid": "ff7dfeb2-1fb1-4768-be15-0bd5a3f6dd7e"
            },
            "outputs": [
                {
                    "output_type": "display_data",
                    "data": {
                        "text/html": "(2 rows affected)"
                    },
                    "metadata": {}
                },
                {
                    "output_type": "display_data",
                    "data": {
                        "text/html": "Total execution time: 00:00:00.039"
                    },
                    "metadata": {}
                },
                {
                    "output_type": "execute_result",
                    "metadata": {
                        "azdata_chartOptions": {
                            "type": "bar",
                            "dataDirection": "horizontal",
                            "columnsAsLabels": true,
                            "labelFirstColumn": true,
                            "legendPosition": "top"
                        }
                    },
                    "execution_count": 37,
                    "data": {
                        "application/vnd.dataresource+json": {
                            "schema": {
                                "fields": [
                                    {
                                        "name": "ev"
                                    },
                                    {
                                        "name": "rendelesek_szama"
                                    }
                                ]
                            },
                            "data": [
                                {
                                    "ev": "2015",
                                    "rendelesek_szama": "9747"
                                },
                                {
                                    "ev": "2016",
                                    "rendelesek_szama": "14773"
                                }
                            ]
                        },
                        "text/html": [
                            "<table>",
                            "<tr><th>ev</th><th>rendelesek_szama</th></tr>",
                            "<tr><td>2015</td><td>9747</td></tr>",
                            "<tr><td>2016</td><td>14773</td></tr>",
                            "</table>"
                        ]
                    }
                }
            ],
            "execution_count": 37
        },
        {
            "cell_type": "markdown",
            "source": [
                "### **A 2015,2016,2017-es hónapok összesitett rendelése**"
            ],
            "metadata": {
                "language": "sql",
                "azdata_cell_guid": "2493e02f-c98c-43b1-9943-415f34b6fb26"
            },
            "attachments": {}
        },
        {
            "cell_type": "code",
            "source": [
                "SELECT \r\n",
                "MONTH(REND_DATUM) AS honap,\r\n",
                "COUNT(*) AS 'rendelesek_szama'\r\n",
                "FROM \r\n",
                "Rendeles\r\n",
                "GROUP BY \r\n",
                "MONTH(REND_DATUM)\r\n",
                "ORDER BY \r\n",
                "rendelesek_szama DESC"
            ],
            "metadata": {
                "azdata_cell_guid": "1da922c2-0cb5-44e3-9ee4-6ebbcc5dbfb4",
                "language": "sql"
            },
            "outputs": [
                {
                    "output_type": "display_data",
                    "data": {
                        "text/html": "(12 rows affected)"
                    },
                    "metadata": {}
                },
                {
                    "output_type": "display_data",
                    "data": {
                        "text/html": "Total execution time: 00:00:00.041"
                    },
                    "metadata": {}
                },
                {
                    "output_type": "execute_result",
                    "metadata": {},
                    "execution_count": 39,
                    "data": {
                        "application/vnd.dataresource+json": {
                            "schema": {
                                "fields": [
                                    {
                                        "name": "honap"
                                    },
                                    {
                                        "name": "rendelesek_szama"
                                    }
                                ]
                            },
                            "data": [
                                {
                                    "honap": "8",
                                    "rendelesek_szama": "2550"
                                },
                                {
                                    "honap": "3",
                                    "rendelesek_szama": "2516"
                                },
                                {
                                    "honap": "10",
                                    "rendelesek_szama": "2510"
                                },
                                {
                                    "honap": "12",
                                    "rendelesek_szama": "2487"
                                },
                                {
                                    "honap": "7",
                                    "rendelesek_szama": "2444"
                                },
                                {
                                    "honap": "1",
                                    "rendelesek_szama": "2430"
                                },
                                {
                                    "honap": "5",
                                    "rendelesek_szama": "2421"
                                },
                                {
                                    "honap": "9",
                                    "rendelesek_szama": "2399"
                                },
                                {
                                    "honap": "11",
                                    "rendelesek_szama": "2388"
                                },
                                {
                                    "honap": "6",
                                    "rendelesek_szama": "2369"
                                },
                                {
                                    "honap": "2",
                                    "rendelesek_szama": "2274"
                                },
                                {
                                    "honap": "4",
                                    "rendelesek_szama": "1297"
                                }
                            ]
                        },
                        "text/html": [
                            "<table>",
                            "<tr><th>honap</th><th>rendelesek_szama</th></tr>",
                            "<tr><td>8</td><td>2550</td></tr>",
                            "<tr><td>3</td><td>2516</td></tr>",
                            "<tr><td>10</td><td>2510</td></tr>",
                            "<tr><td>12</td><td>2487</td></tr>",
                            "<tr><td>7</td><td>2444</td></tr>",
                            "<tr><td>1</td><td>2430</td></tr>",
                            "<tr><td>5</td><td>2421</td></tr>",
                            "<tr><td>9</td><td>2399</td></tr>",
                            "<tr><td>11</td><td>2388</td></tr>",
                            "<tr><td>6</td><td>2369</td></tr>",
                            "<tr><td>2</td><td>2274</td></tr>",
                            "<tr><td>4</td><td>1297</td></tr>",
                            "</table>"
                        ]
                    }
                }
            ],
            "execution_count": 39
        },
        {
            "cell_type": "code",
            "source": [
                "SELECT \r\n",
                "MONTH(REND_DATUM) AS honap,\r\n",
                "COUNT(*) AS 'rendelesek_szama'\r\n",
                "FROM \r\n",
                "Rendeles\r\n",
                "GROUP BY \r\n",
                "MONTH(REND_DATUM)\r\n",
                "ORDER BY \r\n",
                "rendelesek_szama DESC"
            ],
            "metadata": {
                "language": "sql",
                "azdata_cell_guid": "8fb5623d-2d71-4018-be10-68ee681ab075"
            },
            "outputs": [
                {
                    "output_type": "display_data",
                    "data": {
                        "text/html": "(12 rows affected)"
                    },
                    "metadata": {}
                },
                {
                    "output_type": "display_data",
                    "data": {
                        "text/html": "Total execution time: 00:00:00.025"
                    },
                    "metadata": {}
                },
                {
                    "output_type": "execute_result",
                    "metadata": {
                        "azdata_chartOptions": {
                            "type": "bar",
                            "dataDirection": "horizontal",
                            "columnsAsLabels": true,
                            "labelFirstColumn": true,
                            "legendPosition": "top"
                        }
                    },
                    "execution_count": 40,
                    "data": {
                        "application/vnd.dataresource+json": {
                            "schema": {
                                "fields": [
                                    {
                                        "name": "honap"
                                    },
                                    {
                                        "name": "rendelesek_szama"
                                    }
                                ]
                            },
                            "data": [
                                {
                                    "honap": "8",
                                    "rendelesek_szama": "2550"
                                },
                                {
                                    "honap": "3",
                                    "rendelesek_szama": "2516"
                                },
                                {
                                    "honap": "10",
                                    "rendelesek_szama": "2510"
                                },
                                {
                                    "honap": "12",
                                    "rendelesek_szama": "2487"
                                },
                                {
                                    "honap": "7",
                                    "rendelesek_szama": "2444"
                                },
                                {
                                    "honap": "1",
                                    "rendelesek_szama": "2430"
                                },
                                {
                                    "honap": "5",
                                    "rendelesek_szama": "2421"
                                },
                                {
                                    "honap": "9",
                                    "rendelesek_szama": "2399"
                                },
                                {
                                    "honap": "11",
                                    "rendelesek_szama": "2388"
                                },
                                {
                                    "honap": "6",
                                    "rendelesek_szama": "2369"
                                },
                                {
                                    "honap": "2",
                                    "rendelesek_szama": "2274"
                                },
                                {
                                    "honap": "4",
                                    "rendelesek_szama": "1297"
                                }
                            ]
                        },
                        "text/html": [
                            "<table>",
                            "<tr><th>honap</th><th>rendelesek_szama</th></tr>",
                            "<tr><td>8</td><td>2550</td></tr>",
                            "<tr><td>3</td><td>2516</td></tr>",
                            "<tr><td>10</td><td>2510</td></tr>",
                            "<tr><td>12</td><td>2487</td></tr>",
                            "<tr><td>7</td><td>2444</td></tr>",
                            "<tr><td>1</td><td>2430</td></tr>",
                            "<tr><td>5</td><td>2421</td></tr>",
                            "<tr><td>9</td><td>2399</td></tr>",
                            "<tr><td>11</td><td>2388</td></tr>",
                            "<tr><td>6</td><td>2369</td></tr>",
                            "<tr><td>2</td><td>2274</td></tr>",
                            "<tr><td>4</td><td>1297</td></tr>",
                            "</table>"
                        ]
                    }
                }
            ],
            "execution_count": 40
        },
        {
            "cell_type": "markdown",
            "source": [
                "### **Összes login, illetve egyedi értékek száma**"
            ],
            "metadata": {
                "azdata_cell_guid": "9cdffb42-2728-46b4-a950-2edf8175df1d"
            },
            "attachments": {}
        },
        {
            "cell_type": "code",
            "source": [
                "SELECT \r\n",
                "COUNT([LOGIN]) AS 'osszes_ertek',\r\n",
                "COUNT(DISTINCT [LOGIN]) AS 'egyedi_ertekek'\r\n",
                "FROM \r\n",
                "Rendeles"
            ],
            "metadata": {
                "language": "sql",
                "azdata_cell_guid": "4bdb0dd8-9bd8-4f09-a067-af4d109f0619"
            },
            "outputs": [
                {
                    "output_type": "display_data",
                    "data": {
                        "text/html": "(1 row affected)"
                    },
                    "metadata": {}
                },
                {
                    "output_type": "display_data",
                    "data": {
                        "text/html": "Total execution time: 00:00:00.040"
                    },
                    "metadata": {}
                },
                {
                    "output_type": "execute_result",
                    "metadata": {},
                    "execution_count": 42,
                    "data": {
                        "application/vnd.dataresource+json": {
                            "schema": {
                                "fields": [
                                    {
                                        "name": "osszes_ertek"
                                    },
                                    {
                                        "name": "egyedi_ertekek"
                                    }
                                ]
                            },
                            "data": [
                                {
                                    "osszes_ertek": "28085",
                                    "egyedi_ertekek": "191"
                                }
                            ]
                        },
                        "text/html": [
                            "<table>",
                            "<tr><th>osszes_ertek</th><th>egyedi_ertekek</th></tr>",
                            "<tr><td>28085</td><td>191</td></tr>",
                            "</table>"
                        ]
                    }
                }
            ],
            "execution_count": 42
        },
        {
            "cell_type": "code",
            "source": [
                "SELECT \r\n",
                "COUNT([LOGIN]) AS 'osszes_ertek',\r\n",
                "COUNT(DISTINCT [LOGIN]) AS 'egyedi_ertekek'\r\n",
                "FROM \r\n",
                "Rendeles"
            ],
            "metadata": {
                "language": "sql",
                "azdata_cell_guid": "80ca2ff0-040a-43b2-a7ba-a9ff12a23c19"
            },
            "outputs": [
                {
                    "output_type": "display_data",
                    "data": {
                        "text/html": "(1 row affected)"
                    },
                    "metadata": {}
                },
                {
                    "output_type": "display_data",
                    "data": {
                        "text/html": "Total execution time: 00:00:00.027"
                    },
                    "metadata": {}
                },
                {
                    "output_type": "execute_result",
                    "metadata": {
                        "azdata_chartOptions": {
                            "type": "bar",
                            "dataDirection": "horizontal",
                            "columnsAsLabels": true,
                            "labelFirstColumn": false,
                            "legendPosition": "top"
                        }
                    },
                    "execution_count": 43,
                    "data": {
                        "application/vnd.dataresource+json": {
                            "schema": {
                                "fields": [
                                    {
                                        "name": "osszes_ertek"
                                    },
                                    {
                                        "name": "egyedi_ertekek"
                                    }
                                ]
                            },
                            "data": [
                                {
                                    "osszes_ertek": "28085",
                                    "egyedi_ertekek": "191"
                                }
                            ]
                        },
                        "text/html": [
                            "<table>",
                            "<tr><th>osszes_ertek</th><th>egyedi_ertekek</th></tr>",
                            "<tr><td>28085</td><td>191</td></tr>",
                            "</table>"
                        ]
                    }
                }
            ],
            "execution_count": 43
        },
        {
            "cell_type": "markdown",
            "source": [
                "### **5 leggyakoribb login**"
            ],
            "metadata": {
                "language": "sql",
                "azdata_cell_guid": "9fc2b488-3b95-455a-81b6-0e283621df62"
            },
            "attachments": {}
        },
        {
            "cell_type": "code",
            "source": [
                "SELECT TOP 5\r\n",
                "LOGIN, \r\n",
                "COUNT(LOGIN) AS 'elofordulas'\r\n",
                "FROM \r\n",
                "Rendeles\r\n",
                "GROUP BY \r\n",
                "LOGIN\r\n",
                "ORDER BY\r\n",
                "elofordulas DESC\r\n",
                ""
            ],
            "metadata": {
                "language": "sql",
                "azdata_cell_guid": "86fc0fb8-a10d-4f1a-9de9-9fb178f9cc6f"
            },
            "outputs": [
                {
                    "output_type": "display_data",
                    "data": {
                        "text/html": "(5 rows affected)"
                    },
                    "metadata": {}
                },
                {
                    "output_type": "display_data",
                    "data": {
                        "text/html": "Total execution time: 00:00:00.042"
                    },
                    "metadata": {}
                },
                {
                    "output_type": "execute_result",
                    "metadata": {},
                    "execution_count": 46,
                    "data": {
                        "application/vnd.dataresource+json": {
                            "schema": {
                                "fields": [
                                    {
                                        "name": "LOGIN"
                                    },
                                    {
                                        "name": "elofordulas"
                                    }
                                ]
                            },
                            "data": [
                                {
                                    "LOGIN": "peter4",
                                    "elofordulas": "852"
                                },
                                {
                                    "LOGIN": "szabolcs",
                                    "elofordulas": "471"
                                },
                                {
                                    "LOGIN": "eva2",
                                    "elofordulas": "462"
                                },
                                {
                                    "LOGIN": "balint1",
                                    "elofordulas": "462"
                                },
                                {
                                    "LOGIN": "krisztina",
                                    "elofordulas": "456"
                                }
                            ]
                        },
                        "text/html": [
                            "<table>",
                            "<tr><th>LOGIN</th><th>elofordulas</th></tr>",
                            "<tr><td>peter4</td><td>852</td></tr>",
                            "<tr><td>szabolcs</td><td>471</td></tr>",
                            "<tr><td>eva2</td><td>462</td></tr>",
                            "<tr><td>balint1</td><td>462</td></tr>",
                            "<tr><td>krisztina</td><td>456</td></tr>",
                            "</table>"
                        ]
                    }
                }
            ],
            "execution_count": 46
        },
        {
            "cell_type": "code",
            "source": [
                "SELECT TOP 5\r\n",
                "LOGIN, \r\n",
                "COUNT(LOGIN) AS 'elofordulas'\r\n",
                "FROM \r\n",
                "Rendeles\r\n",
                "GROUP BY \r\n",
                "LOGIN\r\n",
                "ORDER BY\r\n",
                "elofordulas DESC\r\n",
                ""
            ],
            "metadata": {
                "language": "sql",
                "azdata_cell_guid": "7c62f427-47af-48f2-bd5e-cb5b5688fed0"
            },
            "outputs": [
                {
                    "output_type": "display_data",
                    "data": {
                        "text/html": "(5 rows affected)"
                    },
                    "metadata": {}
                },
                {
                    "output_type": "display_data",
                    "data": {
                        "text/html": "Total execution time: 00:00:00.045"
                    },
                    "metadata": {}
                },
                {
                    "output_type": "execute_result",
                    "metadata": {
                        "azdata_chartOptions": {
                            "type": "bar",
                            "dataDirection": "horizontal",
                            "columnsAsLabels": true,
                            "labelFirstColumn": true,
                            "legendPosition": "top"
                        }
                    },
                    "execution_count": 47,
                    "data": {
                        "application/vnd.dataresource+json": {
                            "schema": {
                                "fields": [
                                    {
                                        "name": "LOGIN"
                                    },
                                    {
                                        "name": "elofordulas"
                                    }
                                ]
                            },
                            "data": [
                                {
                                    "LOGIN": "peter4",
                                    "elofordulas": "852"
                                },
                                {
                                    "LOGIN": "szabolcs",
                                    "elofordulas": "471"
                                },
                                {
                                    "LOGIN": "eva2",
                                    "elofordulas": "462"
                                },
                                {
                                    "LOGIN": "balint1",
                                    "elofordulas": "462"
                                },
                                {
                                    "LOGIN": "krisztina",
                                    "elofordulas": "456"
                                }
                            ]
                        },
                        "text/html": [
                            "<table>",
                            "<tr><th>LOGIN</th><th>elofordulas</th></tr>",
                            "<tr><td>peter4</td><td>852</td></tr>",
                            "<tr><td>szabolcs</td><td>471</td></tr>",
                            "<tr><td>eva2</td><td>462</td></tr>",
                            "<tr><td>balint1</td><td>462</td></tr>",
                            "<tr><td>krisztina</td><td>456</td></tr>",
                            "</table>"
                        ]
                    }
                }
            ],
            "execution_count": 47
        },
        {
            "cell_type": "markdown",
            "source": [
                "**2 leggyakoribb szall\\_mod**"
            ],
            "metadata": {
                "language": "sql",
                "azdata_cell_guid": "4dd4d054-ecf3-4c6f-9d63-113eecf6b3eb"
            },
            "attachments": {}
        },
        {
            "cell_type": "code",
            "source": [
                "SELECT TOP 2 \r\n",
                "SZALL_MOD, \r\n",
                "COUNT(*) AS 'Gyakoriság'\r\n",
                "FROM Rendeles\r\n",
                "WHERE SZALL_MOD IS NOT NULL\r\n",
                "GROUP BY SZALL_MOD\r\n",
                "ORDER BY COUNT(*) DESC"
            ],
            "metadata": {
                "language": "sql",
                "azdata_cell_guid": "7e36b9b3-5426-4fff-9b4c-3b662202ad9c"
            },
            "outputs": [
                {
                    "output_type": "display_data",
                    "data": {
                        "text/html": "(2 rows affected)"
                    },
                    "metadata": {}
                },
                {
                    "output_type": "display_data",
                    "data": {
                        "text/html": "Total execution time: 00:00:00.036"
                    },
                    "metadata": {}
                },
                {
                    "output_type": "execute_result",
                    "metadata": {},
                    "execution_count": 49,
                    "data": {
                        "application/vnd.dataresource+json": {
                            "schema": {
                                "fields": [
                                    {
                                        "name": "SZALL_MOD"
                                    },
                                    {
                                        "name": "frequency"
                                    }
                                ]
                            },
                            "data": [
                                {
                                    "SZALL_MOD": "Személyes átvétel",
                                    "frequency": "9468"
                                },
                                {
                                    "SZALL_MOD": "GLS",
                                    "frequency": "9426"
                                }
                            ]
                        },
                        "text/html": [
                            "<table>",
                            "<tr><th>SZALL_MOD</th><th>frequency</th></tr>",
                            "<tr><td>Személyes átvétel</td><td>9468</td></tr>",
                            "<tr><td>GLS</td><td>9426</td></tr>",
                            "</table>"
                        ]
                    }
                }
            ],
            "execution_count": 49
        },
        {
            "cell_type": "code",
            "source": [
                "SELECT TOP 2 \r\n",
                "SZALL_MOD, \r\n",
                "COUNT(*) AS 'Gyakoriság'\r\n",
                "FROM Rendeles\r\n",
                "WHERE SZALL_MOD IS NOT NULL\r\n",
                "GROUP BY SZALL_MOD\r\n",
                "ORDER BY COUNT(*) DESC"
            ],
            "metadata": {
                "language": "sql",
                "azdata_cell_guid": "930957de-ce54-4d75-94ab-2fd5a461a01f"
            },
            "outputs": [
                {
                    "output_type": "display_data",
                    "data": {
                        "text/html": "(2 rows affected)"
                    },
                    "metadata": {}
                },
                {
                    "output_type": "display_data",
                    "data": {
                        "text/html": "Total execution time: 00:00:00.032"
                    },
                    "metadata": {}
                },
                {
                    "output_type": "execute_result",
                    "metadata": {
                        "azdata_chartOptions": {
                            "type": "bar",
                            "dataDirection": "horizontal",
                            "columnsAsLabels": true,
                            "labelFirstColumn": true,
                            "legendPosition": "top"
                        }
                    },
                    "execution_count": 50,
                    "data": {
                        "application/vnd.dataresource+json": {
                            "schema": {
                                "fields": [
                                    {
                                        "name": "SZALL_MOD"
                                    },
                                    {
                                        "name": "Gyakoriság"
                                    }
                                ]
                            },
                            "data": [
                                {
                                    "SZALL_MOD": "Személyes átvétel",
                                    "Gyakoriság": "9468"
                                },
                                {
                                    "SZALL_MOD": "GLS",
                                    "Gyakoriság": "9426"
                                }
                            ]
                        },
                        "text/html": [
                            "<table>",
                            "<tr><th>SZALL_MOD</th><th>Gyakoriság</th></tr>",
                            "<tr><td>Személyes átvétel</td><td>9468</td></tr>",
                            "<tr><td>GLS</td><td>9426</td></tr>",
                            "</table>"
                        ]
                    }
                }
            ],
            "execution_count": 50
        },
        {
            "cell_type": "markdown",
            "source": [
                "### **Szállitási módok közötti megoszlás %-ban**"
            ],
            "metadata": {
                "language": "sql",
                "azdata_cell_guid": "dc564d41-2355-42f6-9a24-bee626d208b6"
            },
            "attachments": {}
        },
        {
            "cell_type": "code",
            "source": [
                "SELECT \r\n",
                "SZALL_MOD, \r\n",
                "COUNT(*) * 100.0 / (SELECT COUNT(*) FROM RENDELES) AS 'megoszlás'\r\n",
                "FROM \r\n",
                "Rendeles\r\n",
                "GROUP BY \r\n",
                "SZALL_MOD\r\n",
                "ORDER BY \r\n",
                "megoszlás DESC"
            ],
            "metadata": {
                "language": "sql",
                "azdata_cell_guid": "e54e4f54-9a98-4b77-813b-5c1dfeadc911"
            },
            "outputs": [
                {
                    "output_type": "display_data",
                    "data": {
                        "text/html": "(3 rows affected)"
                    },
                    "metadata": {}
                },
                {
                    "output_type": "display_data",
                    "data": {
                        "text/html": "Total execution time: 00:00:00.039"
                    },
                    "metadata": {}
                },
                {
                    "output_type": "execute_result",
                    "metadata": {},
                    "execution_count": 54,
                    "data": {
                        "application/vnd.dataresource+json": {
                            "schema": {
                                "fields": [
                                    {
                                        "name": "SZALL_MOD"
                                    },
                                    {
                                        "name": "megoszlás"
                                    }
                                ]
                            },
                            "data": [
                                {
                                    "SZALL_MOD": "Személyes átvétel",
                                    "megoszlás": "33.711945878582"
                                },
                                {
                                    "SZALL_MOD": "GLS",
                                    "megoszlás": "33.562399857575"
                                },
                                {
                                    "SZALL_MOD": "Posta",
                                    "megoszlás": "32.725654263841"
                                }
                            ]
                        },
                        "text/html": [
                            "<table>",
                            "<tr><th>SZALL_MOD</th><th>megoszlás</th></tr>",
                            "<tr><td>Személyes átvétel</td><td>33.711945878582</td></tr>",
                            "<tr><td>GLS</td><td>33.562399857575</td></tr>",
                            "<tr><td>Posta</td><td>32.725654263841</td></tr>",
                            "</table>"
                        ]
                    }
                }
            ],
            "execution_count": 54
        },
        {
            "cell_type": "code",
            "source": [
                "SELECT \r\n",
                "SZALL_MOD, \r\n",
                "COUNT(*) * 100.0 / (SELECT COUNT(*) FROM RENDELES) AS 'megoszlás'\r\n",
                "FROM \r\n",
                "Rendeles\r\n",
                "GROUP BY \r\n",
                "SZALL_MOD\r\n",
                "ORDER BY \r\n",
                "megoszlás DESC"
            ],
            "metadata": {
                "language": "sql",
                "azdata_cell_guid": "00b474a1-7add-4003-8394-47223d63332a"
            },
            "outputs": [
                {
                    "output_type": "display_data",
                    "data": {
                        "text/html": "(3 rows affected)"
                    },
                    "metadata": {}
                },
                {
                    "output_type": "display_data",
                    "data": {
                        "text/html": "Total execution time: 00:00:00.037"
                    },
                    "metadata": {}
                },
                {
                    "output_type": "execute_result",
                    "metadata": {
                        "azdata_chartOptions": {
                            "type": "bar",
                            "dataDirection": "horizontal",
                            "columnsAsLabels": true,
                            "labelFirstColumn": true,
                            "legendPosition": "top"
                        }
                    },
                    "execution_count": 55,
                    "data": {
                        "application/vnd.dataresource+json": {
                            "schema": {
                                "fields": [
                                    {
                                        "name": "SZALL_MOD"
                                    },
                                    {
                                        "name": "megoszlás"
                                    }
                                ]
                            },
                            "data": [
                                {
                                    "SZALL_MOD": "Személyes átvétel",
                                    "megoszlás": "33.711945878582"
                                },
                                {
                                    "SZALL_MOD": "GLS",
                                    "megoszlás": "33.562399857575"
                                },
                                {
                                    "SZALL_MOD": "Posta",
                                    "megoszlás": "32.725654263841"
                                }
                            ]
                        },
                        "text/html": [
                            "<table>",
                            "<tr><th>SZALL_MOD</th><th>megoszlás</th></tr>",
                            "<tr><td>Személyes átvétel</td><td>33.711945878582</td></tr>",
                            "<tr><td>GLS</td><td>33.562399857575</td></tr>",
                            "<tr><td>Posta</td><td>32.725654263841</td></tr>",
                            "</table>"
                        ]
                    }
                }
            ],
            "execution_count": 55
        }
    ]
}